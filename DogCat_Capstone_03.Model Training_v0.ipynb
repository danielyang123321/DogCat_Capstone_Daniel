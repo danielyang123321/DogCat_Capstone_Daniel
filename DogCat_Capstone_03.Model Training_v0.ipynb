{
 "cells": [
  {
   "cell_type": "code",
   "execution_count": 1,
   "metadata": {},
   "outputs": [],
   "source": [
    "#Model Data Loading\n",
    "\n",
    "#read features and label data from csv file\n",
    "import pandas as pd\n",
    "train_features_final_df = pd.DataFrame(pd.read_csv(\"train_features_final.csv\")).drop('Unnamed: 0', axis=1)\n",
    "train_targets_final_df = pd.DataFrame(pd.read_csv(\"train_targets_final.csv\")).drop('Unnamed: 0', axis=1)\n",
    "\n",
    "#Split training dataset into training subset and testing subset\n",
    "from sklearn.model_selection import train_test_split\n",
    "X_train,X_valid,y_train,y_valid= train_test_split(train_features_final_df,train_targets_final_df,test_size=0.3,random_state=0)\n",
    "\n",
    "#check train subset and validation subset\n",
    "#print(X_train.shape)\n",
    "#print(y_train.shape)\n",
    "#print(X_valid.shape)\n",
    "#print(y_valid.shape)"
   ]
  },
  {
   "cell_type": "code",
   "execution_count": 2,
   "metadata": {},
   "outputs": [
    {
     "name": "stderr",
     "output_type": "stream",
     "text": [
      "Using TensorFlow backend.\n"
     ]
    },
    {
     "name": "stdout",
     "output_type": "stream",
     "text": [
      "_________________________________________________________________\n",
      "Layer (type)                 Output Shape              Param #   \n",
      "=================================================================\n",
      "dense_1 (Dense)              (None, 2)                 8066      \n",
      "=================================================================\n",
      "Total params: 8,066\n",
      "Trainable params: 8,066\n",
      "Non-trainable params: 0\n",
      "_________________________________________________________________\n"
     ]
    }
   ],
   "source": [
    "#Model Building & Compling\n",
    "from keras.models import Sequential\n",
    "from keras.layers import Dropout, Flatten, Dense\n",
    "\n",
    "DogCat_model = Sequential()\n",
    "DogCat_model.add(Dense(2, input_shape=X_train.shape[1:], activation='softmax'))\n",
    "DogCat_model.summary()\n",
    "\n",
    "DogCat_model.compile(loss='categorical_crossentropy', optimizer='rmsprop', metrics=['accuracy'])"
   ]
  },
  {
   "cell_type": "code",
   "execution_count": null,
   "metadata": {},
   "outputs": [],
   "source": [
    "#Model Training\n",
    "\n",
    "from keras.callbacks import ModelCheckpoint  \n",
    "\n",
    "checkpointer = ModelCheckpoint(filepath='model.v0.weights.best.hdf5', \n",
    "                               verbose=1, save_best_only=True)\n",
    "\n",
    "DogCat_model.fit(X_train, y_train, \n",
    "          validation_data=(X_valid, y_valid),\n",
    "          epochs=20, batch_size=20, callbacks=[checkpointer], verbose=1)"
   ]
  },
  {
   "cell_type": "code",
   "execution_count": 4,
   "metadata": {},
   "outputs": [],
   "source": [
    "#Loading the best model\n",
    "DogCat_model.load_weights('model.v0.weights.best.hdf5')\n",
    "\n",
    "#read features data from csv file\n",
    "import pandas as pd\n",
    "test_features_df = pd.DataFrame(pd.read_csv(\"test_features.csv\")).drop('Unnamed: 0', axis=1)\n",
    "\n",
    "\n",
    "\n",
    "#generate predictions using features\n",
    "predicted_vector = DogCat_model.predict(test_features_df)"
   ]
  },
  {
   "cell_type": "code",
   "execution_count": null,
   "metadata": {},
   "outputs": [],
   "source": [
    "#try on test files\n",
    "#move all files to a directory names 'unlabeled'\n",
    "from sklearn.datasets import load_files     \n",
    "data = load_files('test')\n",
    "import numpy as np\n",
    "from keras.utils import np_utils\n",
    "test_files = np.array(data['filenames'])\n",
    "\n",
    "#store prediction list into csv files\n",
    "kaggle_submission=[]\n",
    "for test_file,prediction in zip(test_files,predicted_vector):\n",
    "    kaggle_submission.append([test_file.replace('test/unlabeled/','').replace('.jpg',''),prediction[1]])\n",
    "\n",
    "import pandas as pd\n",
    "kaggle_submission_df=pd.DataFrame(kaggle_submission, columns=['id','label'])\n",
    "kaggle_submission_df.to_csv('submission_v0.csv', index=False)\n",
    "\n",
    "#kaggle competitions submit -c dogs-vs-cats-redux-kernels-edition -f submission_v0.csv -m \"model v0\" "
   ]
  }
 ],
 "metadata": {
  "kernelspec": {
   "display_name": "Environment (conda_tensorflow_p36)",
   "language": "python",
   "name": "conda_tensorflow_p36"
  },
  "language_info": {
   "codemirror_mode": {
    "name": "ipython",
    "version": 3
   },
   "file_extension": ".py",
   "mimetype": "text/x-python",
   "name": "python",
   "nbconvert_exporter": "python",
   "pygments_lexer": "ipython3",
   "version": "3.6.5"
  }
 },
 "nbformat": 4,
 "nbformat_minor": 2
}
